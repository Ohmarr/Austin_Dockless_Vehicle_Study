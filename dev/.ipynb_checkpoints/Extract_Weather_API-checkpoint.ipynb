{
 "cells": [
  {
   "cell_type": "code",
   "execution_count": 1,
   "metadata": {},
   "outputs": [],
   "source": [
    "import requests"
   ]
  },
  {
   "cell_type": "code",
   "execution_count": 2,
   "metadata": {},
   "outputs": [],
   "source": [
    "url = 'http://hrly.lsu.edu/static/docs/srcc_api.json/GetHrlyData/'\n",
    "body = {\n",
    "  \"order\": \"asc\",\n",
    "  \"offset\": 0,\n",
    "  \"limit\": 50,\n",
    "  \"sdate\": \"2018041800\",\n",
    "  \"edate\": \"2018041900\",\n",
    "  \"stime\": \"06:30\",\n",
    "  \"etime\": \"\",\n",
    "  \"stn\": \"KAUS\",\n",
    "  \"src\": \"\",\n",
    "  \"interval\": \"1h\",\n",
    "  \"elems\": \"temp\",\n",
    "  \"summary\": \"temp__mean\",\n",
    "  \"reduce\": \"temp__last\",\n",
    "  \"where\": \"\"\n",
    "}"
   ]
  },
  {
   "cell_type": "code",
   "execution_count": null,
   "metadata": {},
   "outputs": [],
   "source": [
    "requests.post"
   ]
  }
 ],
 "metadata": {
  "kernelspec": {
   "display_name": "Pythonomy",
   "language": "python",
   "name": "pythonomy"
  },
  "language_info": {
   "codemirror_mode": {
    "name": "ipython",
    "version": 3
   },
   "file_extension": ".py",
   "mimetype": "text/x-python",
   "name": "python",
   "nbconvert_exporter": "python",
   "pygments_lexer": "ipython3",
   "version": "3.6.7"
  }
 },
 "nbformat": 4,
 "nbformat_minor": 2
}
