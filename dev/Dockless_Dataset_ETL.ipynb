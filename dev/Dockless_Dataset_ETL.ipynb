{
 "cells": [
  {
   "cell_type": "markdown",
   "metadata": {},
   "source": [
    "# <center> Dockless Dataset </center>\n",
    "### <center> Extract, Transform, Load </center>"
   ]
  },
  {
   "cell_type": "code",
   "execution_count": 1,
   "metadata": {},
   "outputs": [],
   "source": [
    "#import json\n",
    "import pandas as pd\n",
    "from pandas.io.json import json_normalize\n",
    "from pandas import Timestamp\n",
    "from datetime import datetime, timedelta\n",
    "import pymongo\n",
    "#from pymongo import MongoClient"
   ]
  },
  {
   "cell_type": "markdown",
   "metadata": {},
   "source": [
    "### Mongo Initialization\n",
    "##### Database ⟷ dockless_vehicle_db & Collection ⟷ dockless_collection "
   ]
  },
  {
   "cell_type": "code",
   "execution_count": 2,
   "metadata": {},
   "outputs": [],
   "source": [
    "conn = 'mongodb://127.0.0.1:27017' # Initialize PyMongo to work with MongoDBs\n",
    "client = pymongo.MongoClient(conn) # Set Client connection to server (daemon)\n",
    "\n",
    "db = client.dockless_vehicle_db          # Select MongoDB database to work with\n",
    "collection = db.dockless_collection      # Collection Title"
   ]
  },
  {
   "cell_type": "markdown",
   "metadata": {},
   "source": [
    "### EXTRACTION :"
   ]
  },
  {
   "cell_type": "code",
   "execution_count": 3,
   "metadata": {},
   "outputs": [
    {
     "name": "stderr",
     "output_type": "stream",
     "text": [
      "/Users/Omar/anaconda3/envs/pythonomy/lib/python3.6/site-packages/IPython/core/interactiveshell.py:3020: DtypeWarning: Columns (13,14) have mixed types. Specify dtype option on import or set low_memory=False.\n",
      "  interactivity=interactivity, compiler=compiler, result=result)\n"
     ]
    },
    {
     "data": {
      "text/html": [
       "<div>\n",
       "<style scoped>\n",
       "    .dataframe tbody tr th:only-of-type {\n",
       "        vertical-align: middle;\n",
       "    }\n",
       "\n",
       "    .dataframe tbody tr th {\n",
       "        vertical-align: top;\n",
       "    }\n",
       "\n",
       "    .dataframe thead th {\n",
       "        text-align: right;\n",
       "    }\n",
       "</style>\n",
       "<table border=\"1\" class=\"dataframe\">\n",
       "  <thead>\n",
       "    <tr style=\"text-align: right;\">\n",
       "      <th></th>\n",
       "      <th>ID</th>\n",
       "      <th>Device ID</th>\n",
       "      <th>Vehicle Type</th>\n",
       "      <th>Duration (Seconds)</th>\n",
       "      <th>Distance (Meters)</th>\n",
       "      <th>Start Time</th>\n",
       "      <th>End Time</th>\n",
       "      <th>Modified Date</th>\n",
       "      <th>Month</th>\n",
       "      <th>Hour</th>\n",
       "      <th>Day of Week</th>\n",
       "      <th>Council District (Start)</th>\n",
       "      <th>Council District (End)</th>\n",
       "      <th>Origin Cell ID</th>\n",
       "      <th>Destination Cell ID</th>\n",
       "      <th>Year</th>\n",
       "      <th>Start Latitude</th>\n",
       "      <th>Start Longitude</th>\n",
       "      <th>End Latitude</th>\n",
       "      <th>End Longitude</th>\n",
       "    </tr>\n",
       "  </thead>\n",
       "  <tbody>\n",
       "    <tr>\n",
       "      <th>0</th>\n",
       "      <td>000000cb-78a9-4b95-8ead-37c797abcf37</td>\n",
       "      <td>ad14e63b-940d-4ca3-84c6-0131147fba45</td>\n",
       "      <td>scooter</td>\n",
       "      <td>358.0</td>\n",
       "      <td>915.0</td>\n",
       "      <td>06/29/2018 05:30:00 PM</td>\n",
       "      <td>06/29/2018 05:30:00 PM</td>\n",
       "      <td>12/12/2018 09:36:14 PM</td>\n",
       "      <td>6.0</td>\n",
       "      <td>17.0</td>\n",
       "      <td>5.0</td>\n",
       "      <td>5.0</td>\n",
       "      <td>9.0</td>\n",
       "      <td>013445</td>\n",
       "      <td>013916</td>\n",
       "      <td>2018.0</td>\n",
       "      <td>30.263</td>\n",
       "      <td>-97.762</td>\n",
       "      <td>30.259</td>\n",
       "      <td>-97.754</td>\n",
       "    </tr>\n",
       "    <tr>\n",
       "      <th>1</th>\n",
       "      <td>00001b5f-46aa-4b26-a12f-d7b4d3c69834</td>\n",
       "      <td>c5a230c9-7e80-4464-862f-f2b23f61d6d3</td>\n",
       "      <td>scooter</td>\n",
       "      <td>226.0</td>\n",
       "      <td>839.0</td>\n",
       "      <td>11/30/2018 11:00:00 AM</td>\n",
       "      <td>11/30/2018 11:00:00 AM</td>\n",
       "      <td>12/13/2018 03:43:44 PM</td>\n",
       "      <td>11.0</td>\n",
       "      <td>11.0</td>\n",
       "      <td>5.0</td>\n",
       "      <td>9.0</td>\n",
       "      <td>9.0</td>\n",
       "      <td>014556</td>\n",
       "      <td>015186</td>\n",
       "      <td>2018.0</td>\n",
       "      <td>30.283</td>\n",
       "      <td>-97.745</td>\n",
       "      <td>30.284</td>\n",
       "      <td>-97.737</td>\n",
       "    </tr>\n",
       "    <tr>\n",
       "      <th>2</th>\n",
       "      <td>00002334-2f2b-41a0-9a04-8ff66be39f40</td>\n",
       "      <td>5a9f7815-bf0c-4fef-8bac-60efd4f23b10</td>\n",
       "      <td>scooter</td>\n",
       "      <td>324.0</td>\n",
       "      <td>1206.0</td>\n",
       "      <td>10/02/2018 03:15:00 PM</td>\n",
       "      <td>10/02/2018 03:30:00 PM</td>\n",
       "      <td>12/13/2018 03:49:54 PM</td>\n",
       "      <td>10.0</td>\n",
       "      <td>15.0</td>\n",
       "      <td>2.0</td>\n",
       "      <td>9.0</td>\n",
       "      <td>9.0</td>\n",
       "      <td>015344</td>\n",
       "      <td>015032</td>\n",
       "      <td>2018.0</td>\n",
       "      <td>30.285</td>\n",
       "      <td>-97.734</td>\n",
       "      <td>30.291</td>\n",
       "      <td>-97.738</td>\n",
       "    </tr>\n",
       "    <tr>\n",
       "      <th>3</th>\n",
       "      <td>0000261e-c0f0-4fb1-9947-1606dfe4ddcf</td>\n",
       "      <td>41fa0cf0-f433-4b3a-89f5-2c6cec6c367d</td>\n",
       "      <td>scooter</td>\n",
       "      <td>1096.0</td>\n",
       "      <td>0.0</td>\n",
       "      <td>09/02/2018 04:45:00 PM</td>\n",
       "      <td>09/02/2018 05:00:00 PM</td>\n",
       "      <td>12/13/2018 03:53:09 PM</td>\n",
       "      <td>9.0</td>\n",
       "      <td>16.0</td>\n",
       "      <td>0.0</td>\n",
       "      <td>9.0</td>\n",
       "      <td>9.0</td>\n",
       "      <td>014707</td>\n",
       "      <td>014081</td>\n",
       "      <td>2018.0</td>\n",
       "      <td>30.268</td>\n",
       "      <td>-97.743</td>\n",
       "      <td>30.276</td>\n",
       "      <td>-97.752</td>\n",
       "    </tr>\n",
       "    <tr>\n",
       "      <th>4</th>\n",
       "      <td>00002c70-678b-4c09-a32c-da0266e329c6</td>\n",
       "      <td>ddd4bbc3-114e-4cbc-b078-860e3c28b11b</td>\n",
       "      <td>scooter</td>\n",
       "      <td>408.0</td>\n",
       "      <td>1144.0</td>\n",
       "      <td>09/28/2018 11:45:00 AM</td>\n",
       "      <td>09/28/2018 11:45:00 AM</td>\n",
       "      <td>12/12/2018 10:24:56 PM</td>\n",
       "      <td>9.0</td>\n",
       "      <td>11.0</td>\n",
       "      <td>5.0</td>\n",
       "      <td>3.0</td>\n",
       "      <td>3.0</td>\n",
       "      <td>016114</td>\n",
       "      <td>015642</td>\n",
       "      <td>2018.0</td>\n",
       "      <td>30.242</td>\n",
       "      <td>-97.721</td>\n",
       "      <td>30.244</td>\n",
       "      <td>-97.729</td>\n",
       "    </tr>\n",
       "  </tbody>\n",
       "</table>\n",
       "</div>"
      ],
      "text/plain": [
       "                                     ID                             Device ID  \\\n",
       "0  000000cb-78a9-4b95-8ead-37c797abcf37  ad14e63b-940d-4ca3-84c6-0131147fba45   \n",
       "1  00001b5f-46aa-4b26-a12f-d7b4d3c69834  c5a230c9-7e80-4464-862f-f2b23f61d6d3   \n",
       "2  00002334-2f2b-41a0-9a04-8ff66be39f40  5a9f7815-bf0c-4fef-8bac-60efd4f23b10   \n",
       "3  0000261e-c0f0-4fb1-9947-1606dfe4ddcf  41fa0cf0-f433-4b3a-89f5-2c6cec6c367d   \n",
       "4  00002c70-678b-4c09-a32c-da0266e329c6  ddd4bbc3-114e-4cbc-b078-860e3c28b11b   \n",
       "\n",
       "  Vehicle Type  Duration (Seconds)  Distance (Meters)              Start Time  \\\n",
       "0      scooter               358.0              915.0  06/29/2018 05:30:00 PM   \n",
       "1      scooter               226.0              839.0  11/30/2018 11:00:00 AM   \n",
       "2      scooter               324.0             1206.0  10/02/2018 03:15:00 PM   \n",
       "3      scooter              1096.0                0.0  09/02/2018 04:45:00 PM   \n",
       "4      scooter               408.0             1144.0  09/28/2018 11:45:00 AM   \n",
       "\n",
       "                 End Time           Modified Date  Month  Hour  Day of Week  \\\n",
       "0  06/29/2018 05:30:00 PM  12/12/2018 09:36:14 PM    6.0  17.0          5.0   \n",
       "1  11/30/2018 11:00:00 AM  12/13/2018 03:43:44 PM   11.0  11.0          5.0   \n",
       "2  10/02/2018 03:30:00 PM  12/13/2018 03:49:54 PM   10.0  15.0          2.0   \n",
       "3  09/02/2018 05:00:00 PM  12/13/2018 03:53:09 PM    9.0  16.0          0.0   \n",
       "4  09/28/2018 11:45:00 AM  12/12/2018 10:24:56 PM    9.0  11.0          5.0   \n",
       "\n",
       "   Council District (Start)  Council District (End) Origin Cell ID  \\\n",
       "0                       5.0                     9.0         013445   \n",
       "1                       9.0                     9.0         014556   \n",
       "2                       9.0                     9.0         015344   \n",
       "3                       9.0                     9.0         014707   \n",
       "4                       3.0                     3.0         016114   \n",
       "\n",
       "  Destination Cell ID    Year  Start Latitude  Start Longitude  End Latitude  \\\n",
       "0              013916  2018.0          30.263          -97.762        30.259   \n",
       "1              015186  2018.0          30.283          -97.745        30.284   \n",
       "2              015032  2018.0          30.285          -97.734        30.291   \n",
       "3              014081  2018.0          30.268          -97.743        30.276   \n",
       "4              015642  2018.0          30.242          -97.721        30.244   \n",
       "\n",
       "   End Longitude  \n",
       "0        -97.754  \n",
       "1        -97.737  \n",
       "2        -97.738  \n",
       "3        -97.752  \n",
       "4        -97.729  "
      ]
     },
     "execution_count": 3,
     "metadata": {},
     "output_type": "execute_result"
    }
   ],
   "source": [
    "csv_filepath = '../dev/Resources/Dockless_Vehicle_Trips.csv' #Omar Filepath\n",
    "#csv_filepath = '../../project-ETL/Dockless_Vehicle_Trips.csv' #Michael Filepath\n",
    "\n",
    "dockless_data_df = pd.read_csv(csv_filepath)\n",
    "dockless_data_df = dockless_data_df.rename(columns={'Trip Duration':'Duration (Seconds)', \n",
    "                                                    'Trip Distance':'Distance (Meters)'})\n",
    "dockless_data_df.head()"
   ]
  },
  {
   "cell_type": "markdown",
   "metadata": {},
   "source": [
    "### TRANSFORMATION :"
   ]
  },
  {
   "cell_type": "code",
   "execution_count": 4,
   "metadata": {},
   "outputs": [
    {
     "data": {
      "text/html": [
       "<div>\n",
       "<style scoped>\n",
       "    .dataframe tbody tr th:only-of-type {\n",
       "        vertical-align: middle;\n",
       "    }\n",
       "\n",
       "    .dataframe tbody tr th {\n",
       "        vertical-align: top;\n",
       "    }\n",
       "\n",
       "    .dataframe thead th {\n",
       "        text-align: right;\n",
       "    }\n",
       "</style>\n",
       "<table border=\"1\" class=\"dataframe\">\n",
       "  <thead>\n",
       "    <tr style=\"text-align: right;\">\n",
       "      <th></th>\n",
       "      <th>ID</th>\n",
       "      <th>Vehicle Type</th>\n",
       "      <th>Duration (Seconds)</th>\n",
       "      <th>Distance (Meters)</th>\n",
       "      <th>Start Time</th>\n",
       "    </tr>\n",
       "  </thead>\n",
       "  <tbody>\n",
       "    <tr>\n",
       "      <th>0</th>\n",
       "      <td>000000cb-78a9-4b95-8ead-37c797abcf37</td>\n",
       "      <td>scooter</td>\n",
       "      <td>358.0</td>\n",
       "      <td>915.0</td>\n",
       "      <td>06/29/2018 05:30:00 PM</td>\n",
       "    </tr>\n",
       "    <tr>\n",
       "      <th>1</th>\n",
       "      <td>00001b5f-46aa-4b26-a12f-d7b4d3c69834</td>\n",
       "      <td>scooter</td>\n",
       "      <td>226.0</td>\n",
       "      <td>839.0</td>\n",
       "      <td>11/30/2018 11:00:00 AM</td>\n",
       "    </tr>\n",
       "    <tr>\n",
       "      <th>2</th>\n",
       "      <td>00002334-2f2b-41a0-9a04-8ff66be39f40</td>\n",
       "      <td>scooter</td>\n",
       "      <td>324.0</td>\n",
       "      <td>1206.0</td>\n",
       "      <td>10/02/2018 03:15:00 PM</td>\n",
       "    </tr>\n",
       "    <tr>\n",
       "      <th>3</th>\n",
       "      <td>0000261e-c0f0-4fb1-9947-1606dfe4ddcf</td>\n",
       "      <td>scooter</td>\n",
       "      <td>1096.0</td>\n",
       "      <td>0.0</td>\n",
       "      <td>09/02/2018 04:45:00 PM</td>\n",
       "    </tr>\n",
       "    <tr>\n",
       "      <th>4</th>\n",
       "      <td>00002c70-678b-4c09-a32c-da0266e329c6</td>\n",
       "      <td>scooter</td>\n",
       "      <td>408.0</td>\n",
       "      <td>1144.0</td>\n",
       "      <td>09/28/2018 11:45:00 AM</td>\n",
       "    </tr>\n",
       "  </tbody>\n",
       "</table>\n",
       "</div>"
      ],
      "text/plain": [
       "                                     ID Vehicle Type  Duration (Seconds)  \\\n",
       "0  000000cb-78a9-4b95-8ead-37c797abcf37      scooter               358.0   \n",
       "1  00001b5f-46aa-4b26-a12f-d7b4d3c69834      scooter               226.0   \n",
       "2  00002334-2f2b-41a0-9a04-8ff66be39f40      scooter               324.0   \n",
       "3  0000261e-c0f0-4fb1-9947-1606dfe4ddcf      scooter              1096.0   \n",
       "4  00002c70-678b-4c09-a32c-da0266e329c6      scooter               408.0   \n",
       "\n",
       "   Distance (Meters)              Start Time  \n",
       "0              915.0  06/29/2018 05:30:00 PM  \n",
       "1              839.0  11/30/2018 11:00:00 AM  \n",
       "2             1206.0  10/02/2018 03:15:00 PM  \n",
       "3                0.0  09/02/2018 04:45:00 PM  \n",
       "4             1144.0  09/28/2018 11:45:00 AM  "
      ]
     },
     "execution_count": 4,
     "metadata": {},
     "output_type": "execute_result"
    }
   ],
   "source": [
    "dockless_data_df = dockless_data_df[[\"ID\", \"Vehicle Type\", \"Duration (Seconds)\", \"Distance (Meters)\", \"Start Time\" ]].copy()\n",
    "dockless_data_df.head() #ONLY NEEDED COLUMNS COPIED OVER"
   ]
  },
  {
   "cell_type": "code",
   "execution_count": 5,
   "metadata": {},
   "outputs": [
    {
     "data": {
      "text/plain": [
       "array(['06/29/2018 05:30:00 PM', '11/30/2018 11:00:00 AM'], dtype=object)"
      ]
     },
     "execution_count": 5,
     "metadata": {},
     "output_type": "execute_result"
    }
   ],
   "source": [
    "dockless_data_df[\"Start Time\"][:2].values #testing element\n",
    "#dockless_data_df[\"Start Time\"][0].strip(' PM') #testing element"
   ]
  },
  {
   "cell_type": "code",
   "execution_count": 6,
   "metadata": {},
   "outputs": [],
   "source": [
    "dockless_data_df = dockless_data_df.dropna(subset=[\"Start Time\"])"
   ]
  },
  {
   "cell_type": "code",
   "execution_count": 7,
   "metadata": {},
   "outputs": [],
   "source": [
    "def round_nearest_hour(input_time):\n",
    "    try:\n",
    "        time = datetime.strptime(input_time, \"%m/%d/%Y %I:%M:%S %p\")\n",
    "   #    time = datetime.strptime(input_time, \"%m/%d/%Y %H:%M\")\n",
    "        time = time + timedelta(minutes=30)\n",
    "        month = time.month\n",
    "        year = time.year\n",
    "        day = time.day\n",
    "        hour = time.hour\n",
    "        minute = 0\n",
    "        return datetime(year, month, day, hour, minute)\n",
    "    except:\n",
    "        print(\"Error: \", input_time)"
   ]
  },
  {
   "cell_type": "code",
   "execution_count": 8,
   "metadata": {},
   "outputs": [
    {
     "data": {
      "text/plain": [
       "datetime.datetime(2018, 6, 29, 18, 0)"
      ]
     },
     "execution_count": 8,
     "metadata": {},
     "output_type": "execute_result"
    }
   ],
   "source": [
    "round_nearest_hour('06/29/2018 05:30:00 PM') #FUNCTION TEST\n",
    "#round_nearest_hour('6/29/2018 23:20') #FUNCTION TEST"
   ]
  },
  {
   "cell_type": "code",
   "execution_count": 9,
   "metadata": {},
   "outputs": [
    {
     "data": {
      "text/html": [
       "<div>\n",
       "<style scoped>\n",
       "    .dataframe tbody tr th:only-of-type {\n",
       "        vertical-align: middle;\n",
       "    }\n",
       "\n",
       "    .dataframe tbody tr th {\n",
       "        vertical-align: top;\n",
       "    }\n",
       "\n",
       "    .dataframe thead th {\n",
       "        text-align: right;\n",
       "    }\n",
       "</style>\n",
       "<table border=\"1\" class=\"dataframe\">\n",
       "  <thead>\n",
       "    <tr style=\"text-align: right;\">\n",
       "      <th></th>\n",
       "      <th>ID</th>\n",
       "      <th>Vehicle Type</th>\n",
       "      <th>Duration (Seconds)</th>\n",
       "      <th>Distance (Meters)</th>\n",
       "      <th>Start Time</th>\n",
       "      <th>Start Time (rounded)</th>\n",
       "    </tr>\n",
       "  </thead>\n",
       "  <tbody>\n",
       "    <tr>\n",
       "      <th>0</th>\n",
       "      <td>000000cb-78a9-4b95-8ead-37c797abcf37</td>\n",
       "      <td>scooter</td>\n",
       "      <td>358.0</td>\n",
       "      <td>915.0</td>\n",
       "      <td>06/29/2018 05:30:00 PM</td>\n",
       "      <td>2018-06-29 18:00:00</td>\n",
       "    </tr>\n",
       "    <tr>\n",
       "      <th>1</th>\n",
       "      <td>00001b5f-46aa-4b26-a12f-d7b4d3c69834</td>\n",
       "      <td>scooter</td>\n",
       "      <td>226.0</td>\n",
       "      <td>839.0</td>\n",
       "      <td>11/30/2018 11:00:00 AM</td>\n",
       "      <td>2018-11-30 11:00:00</td>\n",
       "    </tr>\n",
       "    <tr>\n",
       "      <th>2</th>\n",
       "      <td>00002334-2f2b-41a0-9a04-8ff66be39f40</td>\n",
       "      <td>scooter</td>\n",
       "      <td>324.0</td>\n",
       "      <td>1206.0</td>\n",
       "      <td>10/02/2018 03:15:00 PM</td>\n",
       "      <td>2018-10-02 15:00:00</td>\n",
       "    </tr>\n",
       "    <tr>\n",
       "      <th>3</th>\n",
       "      <td>0000261e-c0f0-4fb1-9947-1606dfe4ddcf</td>\n",
       "      <td>scooter</td>\n",
       "      <td>1096.0</td>\n",
       "      <td>0.0</td>\n",
       "      <td>09/02/2018 04:45:00 PM</td>\n",
       "      <td>2018-09-02 17:00:00</td>\n",
       "    </tr>\n",
       "    <tr>\n",
       "      <th>4</th>\n",
       "      <td>00002c70-678b-4c09-a32c-da0266e329c6</td>\n",
       "      <td>scooter</td>\n",
       "      <td>408.0</td>\n",
       "      <td>1144.0</td>\n",
       "      <td>09/28/2018 11:45:00 AM</td>\n",
       "      <td>2018-09-28 12:00:00</td>\n",
       "    </tr>\n",
       "  </tbody>\n",
       "</table>\n",
       "</div>"
      ],
      "text/plain": [
       "                                     ID Vehicle Type  Duration (Seconds)  \\\n",
       "0  000000cb-78a9-4b95-8ead-37c797abcf37      scooter               358.0   \n",
       "1  00001b5f-46aa-4b26-a12f-d7b4d3c69834      scooter               226.0   \n",
       "2  00002334-2f2b-41a0-9a04-8ff66be39f40      scooter               324.0   \n",
       "3  0000261e-c0f0-4fb1-9947-1606dfe4ddcf      scooter              1096.0   \n",
       "4  00002c70-678b-4c09-a32c-da0266e329c6      scooter               408.0   \n",
       "\n",
       "   Distance (Meters)              Start Time Start Time (rounded)  \n",
       "0              915.0  06/29/2018 05:30:00 PM  2018-06-29 18:00:00  \n",
       "1              839.0  11/30/2018 11:00:00 AM  2018-11-30 11:00:00  \n",
       "2             1206.0  10/02/2018 03:15:00 PM  2018-10-02 15:00:00  \n",
       "3                0.0  09/02/2018 04:45:00 PM  2018-09-02 17:00:00  \n",
       "4             1144.0  09/28/2018 11:45:00 AM  2018-09-28 12:00:00  "
      ]
     },
     "execution_count": 9,
     "metadata": {},
     "output_type": "execute_result"
    }
   ],
   "source": [
    "dockless_data_df[\"Start Time (rounded)\"] = dockless_data_df[\"Start Time\"].apply(round_nearest_hour)\n",
    "dockless_data_df.head()"
   ]
  },
  {
   "cell_type": "code",
   "execution_count": 10,
   "metadata": {
    "scrolled": false
   },
   "outputs": [
    {
     "data": {
      "text/html": [
       "<div>\n",
       "<style scoped>\n",
       "    .dataframe tbody tr th:only-of-type {\n",
       "        vertical-align: middle;\n",
       "    }\n",
       "\n",
       "    .dataframe tbody tr th {\n",
       "        vertical-align: top;\n",
       "    }\n",
       "\n",
       "    .dataframe thead th {\n",
       "        text-align: right;\n",
       "    }\n",
       "</style>\n",
       "<table border=\"1\" class=\"dataframe\">\n",
       "  <thead>\n",
       "    <tr style=\"text-align: right;\">\n",
       "      <th></th>\n",
       "      <th>ID</th>\n",
       "      <th>Vehicle Type</th>\n",
       "      <th>Duration (Seconds)</th>\n",
       "      <th>Distance (Meters)</th>\n",
       "      <th>Start Time (rounded)</th>\n",
       "    </tr>\n",
       "  </thead>\n",
       "  <tbody>\n",
       "    <tr>\n",
       "      <th>0</th>\n",
       "      <td>000000cb-78a9-4b95-8ead-37c797abcf37</td>\n",
       "      <td>scooter</td>\n",
       "      <td>358.0</td>\n",
       "      <td>915.0</td>\n",
       "      <td>2018-06-29 18:00:00</td>\n",
       "    </tr>\n",
       "    <tr>\n",
       "      <th>1</th>\n",
       "      <td>00001b5f-46aa-4b26-a12f-d7b4d3c69834</td>\n",
       "      <td>scooter</td>\n",
       "      <td>226.0</td>\n",
       "      <td>839.0</td>\n",
       "      <td>2018-11-30 11:00:00</td>\n",
       "    </tr>\n",
       "    <tr>\n",
       "      <th>2</th>\n",
       "      <td>00002334-2f2b-41a0-9a04-8ff66be39f40</td>\n",
       "      <td>scooter</td>\n",
       "      <td>324.0</td>\n",
       "      <td>1206.0</td>\n",
       "      <td>2018-10-02 15:00:00</td>\n",
       "    </tr>\n",
       "    <tr>\n",
       "      <th>3</th>\n",
       "      <td>0000261e-c0f0-4fb1-9947-1606dfe4ddcf</td>\n",
       "      <td>scooter</td>\n",
       "      <td>1096.0</td>\n",
       "      <td>0.0</td>\n",
       "      <td>2018-09-02 17:00:00</td>\n",
       "    </tr>\n",
       "    <tr>\n",
       "      <th>4</th>\n",
       "      <td>00002c70-678b-4c09-a32c-da0266e329c6</td>\n",
       "      <td>scooter</td>\n",
       "      <td>408.0</td>\n",
       "      <td>1144.0</td>\n",
       "      <td>2018-09-28 12:00:00</td>\n",
       "    </tr>\n",
       "  </tbody>\n",
       "</table>\n",
       "</div>"
      ],
      "text/plain": [
       "                                     ID Vehicle Type  Duration (Seconds)  \\\n",
       "0  000000cb-78a9-4b95-8ead-37c797abcf37      scooter               358.0   \n",
       "1  00001b5f-46aa-4b26-a12f-d7b4d3c69834      scooter               226.0   \n",
       "2  00002334-2f2b-41a0-9a04-8ff66be39f40      scooter               324.0   \n",
       "3  0000261e-c0f0-4fb1-9947-1606dfe4ddcf      scooter              1096.0   \n",
       "4  00002c70-678b-4c09-a32c-da0266e329c6      scooter               408.0   \n",
       "\n",
       "   Distance (Meters) Start Time (rounded)  \n",
       "0              915.0  2018-06-29 18:00:00  \n",
       "1              839.0  2018-11-30 11:00:00  \n",
       "2             1206.0  2018-10-02 15:00:00  \n",
       "3                0.0  2018-09-02 17:00:00  \n",
       "4             1144.0  2018-09-28 12:00:00  "
      ]
     },
     "execution_count": 10,
     "metadata": {},
     "output_type": "execute_result"
    }
   ],
   "source": [
    "dockless_data_df = dockless_data_df[[\"ID\", \"Vehicle Type\", \"Duration (Seconds)\", \"Distance (Meters)\", \"Start Time (rounded)\" ]].copy()\n",
    "dockless_data_df.head()"
   ]
  },
  {
   "cell_type": "code",
   "execution_count": 11,
   "metadata": {},
   "outputs": [
    {
     "data": {
      "text/plain": [
       "100"
      ]
     },
     "execution_count": 11,
     "metadata": {},
     "output_type": "execute_result"
    }
   ],
   "source": [
    "# TOP 100 ROWS FOR TESTING; ORIGINAL DATASET CONTAINS 2.6 MILLION ROWS;\n",
    "dockless_data_top100_df = dockless_data_df[:][:100]\n",
    "len(dockless_data_top100_df)"
   ]
  },
  {
   "cell_type": "markdown",
   "metadata": {},
   "source": [
    "### LOADING: \n",
    "#### INTO MONGODB"
   ]
  },
  {
   "cell_type": "code",
   "execution_count": 12,
   "metadata": {},
   "outputs": [],
   "source": [
    "#LIMITED DATASET OF TOP 100 ROWS FOR FUNCTIONALITY TESTING\n",
    "for index, row in dockless_data_top100_df.iterrows():\n",
    "    data = row.to_dict()\n",
    "    collection.insert_one(data)"
   ]
  },
  {
   "cell_type": "code",
   "execution_count": null,
   "metadata": {},
   "outputs": [],
   "source": [
    "#COMPLETE DATASET OF 2.6 MILLION ROWS\n",
    "for index, row in dockless_data_df.iterrows():\n",
    "    data = row.to_dict()\n",
    "    collection.insert_one(data)"
   ]
  }
 ],
 "metadata": {
  "kernelspec": {
   "display_name": "Pythonomy",
   "language": "python",
   "name": "pythonomy"
  },
  "language_info": {
   "codemirror_mode": {
    "name": "ipython",
    "version": 3
   },
   "file_extension": ".py",
   "mimetype": "text/x-python",
   "name": "python",
   "nbconvert_exporter": "python",
   "pygments_lexer": "ipython3",
   "version": "3.6.7"
  }
 },
 "nbformat": 4,
 "nbformat_minor": 2
}
