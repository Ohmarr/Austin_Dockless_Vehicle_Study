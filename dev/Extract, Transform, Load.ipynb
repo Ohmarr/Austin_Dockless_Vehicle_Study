{
 "cells": [
  {
   "cell_type": "code",
   "execution_count": 1,
   "metadata": {},
   "outputs": [],
   "source": [
    "import pandas as pd\n",
    "from sqlalchemy import create_engine"
   ]
  },
  {
   "cell_type": "code",
   "execution_count": 2,
   "metadata": {},
   "outputs": [],
   "source": [
    "import pymysql\n",
    "pymysql.install_as_MySQLdb()"
   ]
  },
  {
   "cell_type": "markdown",
   "metadata": {},
   "source": [
    "### Extract CSVs into DataFrames"
   ]
  },
  {
   "cell_type": "code",
   "execution_count": 3,
   "metadata": {},
   "outputs": [
    {
     "data": {
      "text/html": [
       "<div>\n",
       "<style scoped>\n",
       "    .dataframe tbody tr th:only-of-type {\n",
       "        vertical-align: middle;\n",
       "    }\n",
       "\n",
       "    .dataframe tbody tr th {\n",
       "        vertical-align: top;\n",
       "    }\n",
       "\n",
       "    .dataframe thead th {\n",
       "        text-align: right;\n",
       "    }\n",
       "</style>\n",
       "<table border=\"1\" class=\"dataframe\">\n",
       "  <thead>\n",
       "    <tr style=\"text-align: right;\">\n",
       "      <th></th>\n",
       "      <th>License Serial Number</th>\n",
       "      <th>Premises Name</th>\n",
       "      <th>License Certificate Number</th>\n",
       "      <th>License Received Date</th>\n",
       "      <th>County ID Code</th>\n",
       "    </tr>\n",
       "  </thead>\n",
       "  <tbody>\n",
       "    <tr>\n",
       "      <th>0</th>\n",
       "      <td>1311660</td>\n",
       "      <td>CANA ARRIBA GROCERY NO 2 INC</td>\n",
       "      <td>NaN</td>\n",
       "      <td>2018-06-29T00:00:00</td>\n",
       "      <td>0</td>\n",
       "    </tr>\n",
       "    <tr>\n",
       "      <th>1</th>\n",
       "      <td>1310023</td>\n",
       "      <td>JOHANA GROCERY &amp; DELI CORP</td>\n",
       "      <td>NaN</td>\n",
       "      <td>2018-04-27T00:00:00</td>\n",
       "      <td>0</td>\n",
       "    </tr>\n",
       "    <tr>\n",
       "      <th>2</th>\n",
       "      <td>1310024</td>\n",
       "      <td>TKO BEVERAGES LLC</td>\n",
       "      <td>NaN</td>\n",
       "      <td>2018-04-27T00:00:00</td>\n",
       "      <td>1</td>\n",
       "    </tr>\n",
       "    <tr>\n",
       "      <th>3</th>\n",
       "      <td>1310024</td>\n",
       "      <td>TKO BEVERAGES LLC</td>\n",
       "      <td>NaN</td>\n",
       "      <td>2018-04-27T00:00:00</td>\n",
       "      <td>1</td>\n",
       "    </tr>\n",
       "    <tr>\n",
       "      <th>4</th>\n",
       "      <td>1311663</td>\n",
       "      <td>181 LEXINGTON AVENUE BBQ LLC</td>\n",
       "      <td>NaN</td>\n",
       "      <td>2018-06-29T00:00:00</td>\n",
       "      <td>2</td>\n",
       "    </tr>\n",
       "  </tbody>\n",
       "</table>\n",
       "</div>"
      ],
      "text/plain": [
       "   License Serial Number                 Premises Name  \\\n",
       "0                1311660  CANA ARRIBA GROCERY NO 2 INC   \n",
       "1                1310023    JOHANA GROCERY & DELI CORP   \n",
       "2                1310024             TKO BEVERAGES LLC   \n",
       "3                1310024             TKO BEVERAGES LLC   \n",
       "4                1311663  181 LEXINGTON AVENUE BBQ LLC   \n",
       "\n",
       "   License Certificate Number License Received Date  County ID Code  \n",
       "0                         NaN   2018-06-29T00:00:00               0  \n",
       "1                         NaN   2018-04-27T00:00:00               0  \n",
       "2                         NaN   2018-04-27T00:00:00               1  \n",
       "3                         NaN   2018-04-27T00:00:00               1  \n",
       "4                         NaN   2018-06-29T00:00:00               2  "
      ]
     },
     "execution_count": 3,
     "metadata": {},
     "output_type": "execute_result"
    }
   ],
   "source": [
    "first_file = \"*\"\n",
    "first_df = pd.read_csv(first_file)\n",
    "first_df.head()"
   ]
  },
  {
   "cell_type": "code",
   "execution_count": 5,
   "metadata": {},
   "outputs": [
    {
     "data": {
      "text/html": [
       "<div>\n",
       "<style scoped>\n",
       "    .dataframe tbody tr th:only-of-type {\n",
       "        vertical-align: middle;\n",
       "    }\n",
       "\n",
       "    .dataframe tbody tr th {\n",
       "        vertical-align: top;\n",
       "    }\n",
       "\n",
       "    .dataframe thead th {\n",
       "        text-align: right;\n",
       "    }\n",
       "</style>\n",
       "<table border=\"1\" class=\"dataframe\">\n",
       "  <thead>\n",
       "    <tr style=\"text-align: right;\">\n",
       "      <th></th>\n",
       "      <th>ID</th>\n",
       "      <th>County Name (Licensee)</th>\n",
       "      <th>County ID Code</th>\n",
       "      <th>License Count</th>\n",
       "    </tr>\n",
       "  </thead>\n",
       "  <tbody>\n",
       "    <tr>\n",
       "      <th>0</th>\n",
       "      <td>0</td>\n",
       "      <td>ALBANY</td>\n",
       "      <td>5</td>\n",
       "      <td>77</td>\n",
       "    </tr>\n",
       "    <tr>\n",
       "      <th>1</th>\n",
       "      <td>1</td>\n",
       "      <td>ALLEGANY</td>\n",
       "      <td>59</td>\n",
       "      <td>4</td>\n",
       "    </tr>\n",
       "    <tr>\n",
       "      <th>2</th>\n",
       "      <td>2</td>\n",
       "      <td>BRONX</td>\n",
       "      <td>0</td>\n",
       "      <td>104</td>\n",
       "    </tr>\n",
       "    <tr>\n",
       "      <th>3</th>\n",
       "      <td>3</td>\n",
       "      <td>BROOME</td>\n",
       "      <td>35</td>\n",
       "      <td>14</td>\n",
       "    </tr>\n",
       "    <tr>\n",
       "      <th>4</th>\n",
       "      <td>4</td>\n",
       "      <td>CATTARAUGUS</td>\n",
       "      <td>41</td>\n",
       "      <td>9</td>\n",
       "    </tr>\n",
       "  </tbody>\n",
       "</table>\n",
       "</div>"
      ],
      "text/plain": [
       "   ID County Name (Licensee)  County ID Code  License Count\n",
       "0   0                 ALBANY               5             77\n",
       "1   1               ALLEGANY              59              4\n",
       "2   2                  BRONX               0            104\n",
       "3   3                 BROOME              35             14\n",
       "4   4            CATTARAUGUS              41              9"
      ]
     },
     "execution_count": 5,
     "metadata": {},
     "output_type": "execute_result"
    }
   ],
   "source": [
    "second_file = \"*\"\n",
    "second_df = pd.read_csv(second_file)\n",
    "second_df.head()"
   ]
  },
  {
   "cell_type": "code",
   "execution_count": 10,
   "metadata": {},
   "outputs": [],
   "source": [
    "def transform(dataframe, columns, rename_dict):\n",
    "    dataframe_transformed = dataframe[columns]\n",
    "    dataframe_transformed = dataframe_transformed.rename(columns=rename_dict)\n",
    "    dataframe_transformed.drop_duplicates(\"id\", inplace=True)\n",
    "    dataframe_transformed.set_index(\"id\", inplace=True)\n",
    "    print(dataframe_transformed.head())\n",
    "    return dataframe_transformed"
   ]
  },
  {
   "cell_type": "markdown",
   "metadata": {},
   "source": [
    "### Transform premise DataFrame"
   ]
  },
  {
   "cell_type": "code",
   "execution_count": 11,
   "metadata": {},
   "outputs": [
    {
     "name": "stdout",
     "output_type": "stream",
     "text": [
      "                         premise_name  county_id\n",
      "id                                              \n",
      "1311660  CANA ARRIBA GROCERY NO 2 INC          0\n",
      "1310023    JOHANA GROCERY & DELI CORP          0\n",
      "1310024             TKO BEVERAGES LLC          1\n",
      "1311663  181 LEXINGTON AVENUE BBQ LLC          2\n",
      "1310029        AZIZ DELI & GRILL CORP          1\n"
     ]
    }
   ],
   "source": [
    "premise_cols = [\"License Serial Number\", \"Premises Name\", \"County ID Code\"]\n",
    "premise_cols_rename = {\n",
    "    \"License Serial Number\": \"id\",\n",
    "    \"Premises Name\": \"premise_name\",\n",
    "    \"County ID Code\": \"county_id\"\n",
    "}\n",
    "\n",
    "# premise_transform_df = premise_df[premise_cols]\n",
    "# premise_transform_df = premise_transform_df.rename(columns=premise_cols_rename)\n",
    "# premise_transform_df.drop_duplicates(\"id\", inplace=True)\n",
    "# premise_transform_df.set_index(\"id\", inplace=True)\n",
    "# premise_transform_df.head()\n",
    "premise_transform_df = transform(premise_df, premise_cols, premise_cols_rename)"
   ]
  },
  {
   "cell_type": "code",
   "execution_count": 12,
   "metadata": {},
   "outputs": [
    {
     "data": {
      "text/html": [
       "<div>\n",
       "<style scoped>\n",
       "    .dataframe tbody tr th:only-of-type {\n",
       "        vertical-align: middle;\n",
       "    }\n",
       "\n",
       "    .dataframe tbody tr th {\n",
       "        vertical-align: top;\n",
       "    }\n",
       "\n",
       "    .dataframe thead th {\n",
       "        text-align: right;\n",
       "    }\n",
       "</style>\n",
       "<table border=\"1\" class=\"dataframe\">\n",
       "  <thead>\n",
       "    <tr style=\"text-align: right;\">\n",
       "      <th></th>\n",
       "      <th>premise_name</th>\n",
       "      <th>county_id</th>\n",
       "    </tr>\n",
       "    <tr>\n",
       "      <th>id</th>\n",
       "      <th></th>\n",
       "      <th></th>\n",
       "    </tr>\n",
       "  </thead>\n",
       "  <tbody>\n",
       "    <tr>\n",
       "      <th>1311660</th>\n",
       "      <td>CANA ARRIBA GROCERY NO 2 INC</td>\n",
       "      <td>0</td>\n",
       "    </tr>\n",
       "    <tr>\n",
       "      <th>1310023</th>\n",
       "      <td>JOHANA GROCERY &amp; DELI CORP</td>\n",
       "      <td>0</td>\n",
       "    </tr>\n",
       "    <tr>\n",
       "      <th>1310024</th>\n",
       "      <td>TKO BEVERAGES LLC</td>\n",
       "      <td>1</td>\n",
       "    </tr>\n",
       "    <tr>\n",
       "      <th>1311663</th>\n",
       "      <td>181 LEXINGTON AVENUE BBQ LLC</td>\n",
       "      <td>2</td>\n",
       "    </tr>\n",
       "    <tr>\n",
       "      <th>1310029</th>\n",
       "      <td>AZIZ DELI &amp; GRILL CORP</td>\n",
       "      <td>1</td>\n",
       "    </tr>\n",
       "  </tbody>\n",
       "</table>\n",
       "</div>"
      ],
      "text/plain": [
       "                         premise_name  county_id\n",
       "id                                              \n",
       "1311660  CANA ARRIBA GROCERY NO 2 INC          0\n",
       "1310023    JOHANA GROCERY & DELI CORP          0\n",
       "1310024             TKO BEVERAGES LLC          1\n",
       "1311663  181 LEXINGTON AVENUE BBQ LLC          2\n",
       "1310029        AZIZ DELI & GRILL CORP          1"
      ]
     },
     "execution_count": 12,
     "metadata": {},
     "output_type": "execute_result"
    }
   ],
   "source": [
    "premise_transform_df.head()"
   ]
  },
  {
   "cell_type": "markdown",
   "metadata": {},
   "source": [
    "### Transform county DataFrame"
   ]
  },
  {
   "cell_type": "code",
   "execution_count": 13,
   "metadata": {},
   "outputs": [
    {
     "name": "stdout",
     "output_type": "stream",
     "text": [
      "    county_name  county_id  license_count\n",
      "id                                       \n",
      "0        ALBANY          5             77\n",
      "1      ALLEGANY         59              4\n",
      "2         BRONX          0            104\n",
      "3        BROOME         35             14\n",
      "4   CATTARAUGUS         41              9\n"
     ]
    }
   ],
   "source": [
    "county_cols = [\"ID\", \"County Name (Licensee)\", \"County ID Code\", \"License Count\"]\n",
    "county_rename_col = {\"ID\": \"id\",\n",
    "                 \"County Name (Licensee)\": \"county_name\",\n",
    "                 \"License Count\": \"license_count\",\n",
    "                 \"County ID Code\": \"county_id\"}\n",
    "county_transform_df = transform(county_df, county_cols, county_rename_col)"
   ]
  },
  {
   "cell_type": "code",
   "execution_count": 14,
   "metadata": {},
   "outputs": [
    {
     "data": {
      "text/html": [
       "<div>\n",
       "<style scoped>\n",
       "    .dataframe tbody tr th:only-of-type {\n",
       "        vertical-align: middle;\n",
       "    }\n",
       "\n",
       "    .dataframe tbody tr th {\n",
       "        vertical-align: top;\n",
       "    }\n",
       "\n",
       "    .dataframe thead th {\n",
       "        text-align: right;\n",
       "    }\n",
       "</style>\n",
       "<table border=\"1\" class=\"dataframe\">\n",
       "  <thead>\n",
       "    <tr style=\"text-align: right;\">\n",
       "      <th></th>\n",
       "      <th>county_name</th>\n",
       "      <th>county_id</th>\n",
       "      <th>license_count</th>\n",
       "    </tr>\n",
       "    <tr>\n",
       "      <th>id</th>\n",
       "      <th></th>\n",
       "      <th></th>\n",
       "      <th></th>\n",
       "    </tr>\n",
       "  </thead>\n",
       "  <tbody>\n",
       "    <tr>\n",
       "      <th>0</th>\n",
       "      <td>ALBANY</td>\n",
       "      <td>5</td>\n",
       "      <td>77</td>\n",
       "    </tr>\n",
       "    <tr>\n",
       "      <th>1</th>\n",
       "      <td>ALLEGANY</td>\n",
       "      <td>59</td>\n",
       "      <td>4</td>\n",
       "    </tr>\n",
       "    <tr>\n",
       "      <th>2</th>\n",
       "      <td>BRONX</td>\n",
       "      <td>0</td>\n",
       "      <td>104</td>\n",
       "    </tr>\n",
       "    <tr>\n",
       "      <th>3</th>\n",
       "      <td>BROOME</td>\n",
       "      <td>35</td>\n",
       "      <td>14</td>\n",
       "    </tr>\n",
       "    <tr>\n",
       "      <th>4</th>\n",
       "      <td>CATTARAUGUS</td>\n",
       "      <td>41</td>\n",
       "      <td>9</td>\n",
       "    </tr>\n",
       "  </tbody>\n",
       "</table>\n",
       "</div>"
      ],
      "text/plain": [
       "    county_name  county_id  license_count\n",
       "id                                       \n",
       "0        ALBANY          5             77\n",
       "1      ALLEGANY         59              4\n",
       "2         BRONX          0            104\n",
       "3        BROOME         35             14\n",
       "4   CATTARAUGUS         41              9"
      ]
     },
     "execution_count": 14,
     "metadata": {},
     "output_type": "execute_result"
    }
   ],
   "source": [
    "county_transform_df.head()"
   ]
  },
  {
   "cell_type": "markdown",
   "metadata": {},
   "source": [
    "### Create database connection"
   ]
  },
  {
   "cell_type": "code",
   "execution_count": 15,
   "metadata": {},
   "outputs": [],
   "source": [
    "rds_connection_string = \"root:root@127.0.0.1/customer_db\"\n",
    "engine = create_engine(f'mysql://{rds_connection_string}')"
   ]
  },
  {
   "cell_type": "code",
   "execution_count": 16,
   "metadata": {},
   "outputs": [
    {
     "data": {
      "text/plain": [
       "['county', 'customer_location', 'customer_name', 'premise']"
      ]
     },
     "execution_count": 16,
     "metadata": {},
     "output_type": "execute_result"
    }
   ],
   "source": [
    "# Confirm tables\n",
    "engine.table_names()"
   ]
  },
  {
   "cell_type": "markdown",
   "metadata": {},
   "source": [
    "### Load DataFrames into database"
   ]
  },
  {
   "cell_type": "code",
   "execution_count": 17,
   "metadata": {},
   "outputs": [],
   "source": [
    "premise_transform_df.to_sql(\"premise\", con=engine, if_exists='append', index=True)"
   ]
  },
  {
   "cell_type": "code",
   "execution_count": 18,
   "metadata": {},
   "outputs": [],
   "source": [
    "county_transform_df.to_sql(\"county\", con=engine, if_exists='append', index=True)"
   ]
  },
  {
   "cell_type": "code",
   "execution_count": null,
   "metadata": {},
   "outputs": [],
   "source": []
  }
 ],
 "metadata": {
  "kernelspec": {
   "display_name": "Python 3",
   "language": "python",
   "name": "python3"
  },
  "language_info": {
   "codemirror_mode": {
    "name": "ipython",
    "version": 3
   },
   "file_extension": ".py",
   "mimetype": "text/x-python",
   "name": "python",
   "nbconvert_exporter": "python",
   "pygments_lexer": "ipython3",
   "version": "3.6.7"
  }
 },
 "nbformat": 4,
 "nbformat_minor": 2
}
