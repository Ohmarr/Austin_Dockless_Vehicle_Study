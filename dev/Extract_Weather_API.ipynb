{
 "cells": [
  {
   "cell_type": "code",
   "execution_count": 24,
   "metadata": {},
   "outputs": [],
   "source": [
    "import requests\n",
    "import json"
   ]
  },
  {
   "cell_type": "code",
   "execution_count": 15,
   "metadata": {},
   "outputs": [],
   "source": [
    "url = 'http://hrly.lsu.edu/GetHrlyData/'\n",
    "body = {\n",
    "  \"order\": \"asc\",\n",
    "  \"offset\": 0,\n",
    "  \"limit\": 50,\n",
    "  \"sdate\": \"2018041800\",\n",
    "  \"edate\": \"2018041900\",\n",
    "  \"stime\": \"06:30\",\n",
    "  \"etime\": \"\",\n",
    "  \"stn\": \"KAUS\",\n",
    "  \"src\": \"\",\n",
    "  \"interval\": \"1h\",\n",
    "  \"elems\": \"temp\",\n",
    "  \"summary\": \"temp__mean\",\n",
    "  \"reduce\": \"temp__last\",\n",
    "  \"where\": \"\"\n",
    "}"
   ]
  },
  {
   "cell_type": "code",
   "execution_count": 36,
   "metadata": {},
   "outputs": [
    {
     "data": {
      "text/plain": [
       "'{\"order\": \"asc\", \"offset\": 0, \"limit\": 50, \"sdate\": \"2018041800\", \"edate\": \"2018041900\", \"stime\": \"06:30\", \"etime\": \"\", \"stn\": \"KAUS\", \"src\": \"\", \"interval\": \"1h\", \"elems\": \"temp\", \"summary\": \"temp__mean\", \"reduce\": \"temp__last\", \"where\": \"\"}'"
      ]
     },
     "execution_count": 36,
     "metadata": {},
     "output_type": "execute_result"
    }
   ],
   "source": [
    "json.dumps(body)"
   ]
  },
  {
   "cell_type": "code",
   "execution_count": 8,
   "metadata": {},
   "outputs": [
    {
     "name": "stdout",
     "output_type": "stream",
     "text": [
      "Help on function post in module requests.api:\n",
      "\n",
      "post(url, data=None, json=None, **kwargs)\n",
      "    Sends a POST request.\n",
      "    \n",
      "    :param url: URL for the new :class:`Request` object.\n",
      "    :param data: (optional) Dictionary, list of tuples, bytes, or file-like\n",
      "        object to send in the body of the :class:`Request`.\n",
      "    :param json: (optional) json data to send in the body of the :class:`Request`.\n",
      "    :param \\*\\*kwargs: Optional arguments that ``request`` takes.\n",
      "    :return: :class:`Response <Response>` object\n",
      "    :rtype: requests.Response\n",
      "\n"
     ]
    }
   ],
   "source": [
    "help(requests.post)"
   ]
  },
  {
   "cell_type": "code",
   "execution_count": 25,
   "metadata": {},
   "outputs": [],
   "source": [
    "x = requests.post(url, data=json.dumps(body))"
   ]
  },
  {
   "cell_type": "code",
   "execution_count": 35,
   "metadata": {},
   "outputs": [
    {
     "data": {
      "text/plain": [
       "b'{\"status\": \"fail\", \"data\": \"Input is malformed; could not decode JSON object.\"}'"
      ]
     },
     "execution_count": 35,
     "metadata": {},
     "output_type": "execute_result"
    }
   ],
   "source": [
    "response = requests.post(url, data=body)\n",
    "response.content"
   ]
  },
  {
   "cell_type": "code",
   "execution_count": 34,
   "metadata": {},
   "outputs": [
    {
     "data": {
      "text/plain": [
       "{'icao': ['KAUS',\n",
       "  'KAUS',\n",
       "  'KAUS',\n",
       "  'KAUS',\n",
       "  'KAUS',\n",
       "  'KAUS',\n",
       "  'KAUS',\n",
       "  'KAUS',\n",
       "  'KAUS',\n",
       "  'KAUS',\n",
       "  'KAUS',\n",
       "  'KAUS',\n",
       "  'KAUS',\n",
       "  'KAUS',\n",
       "  'KAUS',\n",
       "  'KAUS',\n",
       "  'KAUS',\n",
       "  'KAUS',\n",
       "  'KAUS',\n",
       "  'KAUS',\n",
       "  'KAUS',\n",
       "  'KAUS',\n",
       "  'KAUS'],\n",
       " 'src': ['ish',\n",
       "  'ish',\n",
       "  'ish',\n",
       "  'ish',\n",
       "  'ish',\n",
       "  'ish',\n",
       "  'ish',\n",
       "  'ish',\n",
       "  'ish',\n",
       "  'ish',\n",
       "  'ish',\n",
       "  'ish',\n",
       "  'ish',\n",
       "  'ish',\n",
       "  'ish',\n",
       "  'ish',\n",
       "  'ish',\n",
       "  'ish',\n",
       "  'ish',\n",
       "  'ish',\n",
       "  'ish',\n",
       "  'ish',\n",
       "  'ish'],\n",
       " 'utc_time': ['201804180553',\n",
       "  '201804180653',\n",
       "  '201804180753',\n",
       "  '201804180853',\n",
       "  '201804180953',\n",
       "  '201804181053',\n",
       "  '201804181153',\n",
       "  '201804181253',\n",
       "  '201804181353',\n",
       "  '201804181453',\n",
       "  '201804181553',\n",
       "  '201804181653',\n",
       "  '201804181753',\n",
       "  '201804181853',\n",
       "  '201804181953',\n",
       "  '201804182053',\n",
       "  '201804182153',\n",
       "  '201804182253',\n",
       "  '201804182353',\n",
       "  '201804190053',\n",
       "  '201804190153',\n",
       "  '201804190253',\n",
       "  '201804190353'],\n",
       " 'temp': [67.0,\n",
       "  65.0,\n",
       "  66.0,\n",
       "  67.0,\n",
       "  67.0,\n",
       "  67.0,\n",
       "  67.0,\n",
       "  69.0,\n",
       "  70.0,\n",
       "  73.0,\n",
       "  74.0,\n",
       "  72.0,\n",
       "  81.0,\n",
       "  81.0,\n",
       "  81.0,\n",
       "  81.0,\n",
       "  80.0,\n",
       "  78.0,\n",
       "  67.0,\n",
       "  63.0,\n",
       "  59.0,\n",
       "  57.0,\n",
       "  57.0],\n",
       " 'time': ['201804180100',\n",
       "  '201804180200',\n",
       "  '201804180300',\n",
       "  '201804180400',\n",
       "  '201804180500',\n",
       "  '201804180600',\n",
       "  '201804180700',\n",
       "  '201804180800',\n",
       "  '201804180900',\n",
       "  '201804181000',\n",
       "  '201804181100',\n",
       "  '201804181200',\n",
       "  '201804181300',\n",
       "  '201804181400',\n",
       "  '201804181500',\n",
       "  '201804181600',\n",
       "  '201804181700',\n",
       "  '201804181800',\n",
       "  '201804181900',\n",
       "  '201804182000',\n",
       "  '201804182100',\n",
       "  '201804182200',\n",
       "  '201804182300']}"
      ]
     },
     "execution_count": 34,
     "metadata": {},
     "output_type": "execute_result"
    }
   ],
   "source": [
    "x.json()['data']['values']"
   ]
  },
  {
   "cell_type": "code",
   "execution_count": null,
   "metadata": {},
   "outputs": [],
   "source": []
  }
 ],
 "metadata": {
  "kernelspec": {
   "display_name": "Pythonomy",
   "language": "python",
   "name": "pythonomy"
  },
  "language_info": {
   "codemirror_mode": {
    "name": "ipython",
    "version": 3
   },
   "file_extension": ".py",
   "mimetype": "text/x-python",
   "name": "python",
   "nbconvert_exporter": "python",
   "pygments_lexer": "ipython3",
   "version": "3.6.7"
  }
 },
 "nbformat": 4,
 "nbformat_minor": 2
}
